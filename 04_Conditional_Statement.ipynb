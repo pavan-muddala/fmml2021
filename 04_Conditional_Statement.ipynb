{
  "nbformat": 4,
  "nbformat_minor": 0,
  "metadata": {
    "colab": {
      "name": "04_Conditional Statement.ipynb",
      "provenance": [],
      "include_colab_link": true
    },
    "kernelspec": {
      "name": "python3",
      "display_name": "Python 3"
    },
    "language_info": {
      "name": "python"
    }
  },
  "cells": [
    {
      "cell_type": "markdown",
      "metadata": {
        "id": "view-in-github",
        "colab_type": "text"
      },
      "source": [
        "<a href=\"https://colab.research.google.com/github/pavan-muddala/fmml2021/blob/main/04_Conditional_Statement.ipynb\" target=\"_parent\"><img src=\"https://colab.research.google.com/assets/colab-badge.svg\" alt=\"Open In Colab\"/></a>"
      ]
    },
    {
      "cell_type": "markdown",
      "metadata": {
        "id": "edX9c60K6OGY"
      },
      "source": [
        "#### Conditional Statements"
      ]
    },
    {
      "cell_type": "markdown",
      "metadata": {
        "id": "BOWsIrajqsvE"
      },
      "source": [
        "##### if - elif - else  (with indentation)\n",
        "```\n",
        "if condition1:\n",
        "   statement1\n",
        "   statement2\n",
        "   statement3\n",
        "elif condition2:\n",
        "   statement4\n",
        "   statement5\n",
        "   statement6\n",
        "else:\n",
        "   statement7\n",
        "   statement8\n",
        "```"
      ]
    },
    {
      "cell_type": "code",
      "metadata": {
        "id": "eDT9R8AOqnsz",
        "outputId": "abde2405-8286-45ae-e1e0-533b09cfa1d9",
        "colab": {
          "base_uri": "https://localhost:8080/"
        }
      },
      "source": [
        "a = input(\"Enter an integer a: \")\n",
        "type(a)"
      ],
      "execution_count": 9,
      "outputs": [
        {
          "name": "stdout",
          "output_type": "stream",
          "text": [
            "Enter an integer a: 89\n"
          ]
        },
        {
          "output_type": "execute_result",
          "data": {
            "text/plain": [
              "str"
            ]
          },
          "metadata": {},
          "execution_count": 9
        }
      ]
    },
    {
      "cell_type": "code",
      "metadata": {
        "id": "gbOsmJaIqiIP",
        "outputId": "2f227743-1cca-45fd-ab65-38f52f203393",
        "colab": {
          "base_uri": "https://localhost:8080/"
        }
      },
      "source": [
        "a = int(a)\n",
        "type(a)"
      ],
      "execution_count": 10,
      "outputs": [
        {
          "output_type": "execute_result",
          "data": {
            "text/plain": [
              "int"
            ]
          },
          "metadata": {},
          "execution_count": 10
        }
      ]
    },
    {
      "cell_type": "code",
      "metadata": {
        "id": "8D8fTIoYqdGE",
        "outputId": "a74e2a40-5dea-4348-c528-853ecfce2a7c",
        "colab": {
          "base_uri": "https://localhost:8080/"
        }
      },
      "source": [
        "b = input(\"Enter an integer b: \")\n",
        "b = int(b)"
      ],
      "execution_count": 11,
      "outputs": [
        {
          "name": "stdout",
          "output_type": "stream",
          "text": [
            "Enter an integer b: 78\n"
          ]
        }
      ]
    },
    {
      "cell_type": "code",
      "metadata": {
        "id": "cehfXMvowN0S",
        "outputId": "91718936-0a97-48a7-9f78-4620b052643f",
        "colab": {
          "base_uri": "https://localhost:8080/"
        }
      },
      "source": [
        "if (a > b):\n",
        "  print (\"a is greater than b\")\n",
        "  print (\"and that's it\")\n",
        "elif (a < b):\n",
        "  print (\"a is less than b\")\n",
        "  print (\"which is clear\")\n",
        "else:\n",
        "  print (\"a is neither greater than b,  nor less than b\")"
      ],
      "execution_count": 12,
      "outputs": [
        {
          "output_type": "stream",
          "name": "stdout",
          "text": [
            "a is greater than b\n",
            "and that's it\n"
          ]
        }
      ]
    },
    {
      "cell_type": "markdown",
      "metadata": {
        "id": "gRugJ6YQt57S"
      },
      "source": [
        "##### if (condition): statement (single line - without indentation)"
      ]
    },
    {
      "cell_type": "code",
      "metadata": {
        "id": "ZF-tcVscuADN",
        "outputId": "09d41171-c781-4f6c-ee0e-f63c1f7b3de4",
        "colab": {
          "base_uri": "https://localhost:8080/"
        }
      },
      "source": [
        "0a = input(\"Enter an integer a: \")\n",
        "a = int(a)\n",
        "b = input(\"Enter an integer b: \")\n",
        "b = int(b)"
      ],
      "execution_count": 13,
      "outputs": [
        {
          "name": "stdout",
          "output_type": "stream",
          "text": [
            "Enter an integer a: 78\n",
            "Enter an integer b: 9\n"
          ]
        }
      ]
    },
    {
      "cell_type": "code",
      "metadata": {
        "id": "N2E5veph8_9V"
      },
      "source": [
        "if (a < b): print (\"a is lesser than b\")"
      ],
      "execution_count": 14,
      "outputs": []
    },
    {
      "cell_type": "markdown",
      "metadata": {
        "id": "wtPeoXBWxBLa"
      },
      "source": [
        "##### if - else in a single line "
      ]
    },
    {
      "cell_type": "code",
      "metadata": {
        "id": "SwO5vZ8LxGMA",
        "outputId": "b373058c-010e-4109-832e-2934ad5b6250",
        "colab": {
          "base_uri": "https://localhost:8080/"
        }
      },
      "source": [
        "9a = input(\"Enter an integer a: \")\n",
        "a = int(a)\n",
        "b = input(\"Enter an integer b: \")\n",
        "b = int(b)"
      ],
      "execution_count": 15,
      "outputs": [
        {
          "name": "stdout",
          "output_type": "stream",
          "text": [
            "Enter an integer a: 89\n",
            "Enter an integer b: 87\n"
          ]
        }
      ]
    },
    {
      "cell_type": "code",
      "metadata": {
        "id": "-SLed6y6xJoq",
        "outputId": "356f6893-348c-4d44-801e-f74874e6172e",
        "colab": {
          "base_uri": "https://localhost:8080/"
        }
      },
      "source": [
        "print (\"a is less than b\") if (a < b) else print (\"a - {} is not less than b - {}.\".format(a, b))"
      ],
      "execution_count": 16,
      "outputs": [
        {
          "output_type": "stream",
          "name": "stdout",
          "text": [
            "a - 89 is not less than b - 87.\n"
          ]
        }
      ]
    },
    {
      "cell_type": "markdown",
      "metadata": {
        "id": "a-ggfGcOvFjz"
      },
      "source": [
        "##### if-else with three conditions"
      ]
    },
    {
      "cell_type": "code",
      "metadata": {
        "id": "JHGOgFs-vWbq",
        "outputId": "1c2fefc7-3f1c-4d08-c7ca-04e5015295ff",
        "colab": {
          "base_uri": "https://localhost:8080/"
        }
      },
      "source": [
        "a = input(\"Enter first string: \")\n",
        "b = input (\"Enter second string: \")"
      ],
      "execution_count": 17,
      "outputs": [
        {
          "name": "stdout",
          "output_type": "stream",
          "text": [
            "Enter first string: 78\n",
            "Enter second string: 90\n"
          ]
        }
      ]
    },
    {
      "cell_type": "code",
      "metadata": {
        "id": "qgqqBPjAvLQx",
        "outputId": "3a1130f1-c085-47f9-d20d-972ebde9464e",
        "colab": {
          "base_uri": "https://localhost:8080/"
        }
      },
      "source": [
        "print (\"first string comes earlier\") if (a<b) else print (\"second string comes earlier\") if (b<a) else print (\"both strings are same\")  "
      ],
      "execution_count": 18,
      "outputs": [
        {
          "output_type": "stream",
          "name": "stdout",
          "text": [
            "first string comes earlier\n"
          ]
        }
      ]
    },
    {
      "cell_type": "markdown",
      "metadata": {
        "id": "VdwpRcZ82I5N"
      },
      "source": [
        "##### **Exercise**: Write a program to check whether a character read from keyboard is a vowel or consonant"
      ]
    },
    {
      "cell_type": "code",
      "metadata": {
        "id": "b_QjChOW2VJY",
        "outputId": "7c156e72-0bec-4638-afa1-944d4b29299c",
        "colab": {
          "base_uri": "https://localhost:8080/"
        }
      },
      "source": [
        "a=input(\"enter string:\")\n",
        "l=[\"a\",\"e\",\"i\",\"o\",\"u\"]\n",
        "if(a.lower() in l):\n",
        "  print(\"given string is a vowel:\"+a)\n",
        "else:\n",
        "  print(\"given string is not a vowel:\"+a)\n",
        "  "
      ],
      "execution_count": 19,
      "outputs": [
        {
          "output_type": "stream",
          "name": "stdout",
          "text": [
            "enter string:i\n",
            "given string is a vowel:i\n"
          ]
        }
      ]
    },
    {
      "cell_type": "markdown",
      "metadata": {
        "id": "a9AsLgbcVfwx"
      },
      "source": [
        "Reference: [Official Python Documentation](https://docs.python.org/3/tutorial/controlflow.html)"
      ]
    }
  ]
}